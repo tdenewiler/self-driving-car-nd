{
 "cells": [
  {
   "cell_type": "markdown",
   "metadata": {},
   "source": [
    "# Self-Driving Car Engineer Nanodegree\n",
    "\n",
    "\n",
    "## Project: **Finding Lane Lines on the Road** \n",
    "***\n",
    "In this project, you will use the tools you learned about in the lesson to identify lane lines on the road.  You can develop your pipeline on a series of individual images, and later apply the result to a video stream (really just a series of images). Check out the video clip \"raw-lines-example.mp4\" (also contained in this repository) to see what the output should look like after using the helper functions below. \n",
    "\n",
    "Once you have a result that looks roughly like \"raw-lines-example.mp4\", you'll need to get creative and try to average and/or extrapolate the line segments you've detected to map out the full extent of the lane lines.  You can see an example of the result you're going for in the video \"P1_example.mp4\".  Ultimately, you would like to draw just one line for the left side of the lane, and one for the right.\n",
    "\n",
    "In addition to implementing code, there is a brief writeup to complete. The writeup should be completed in a separate file, which can be either a markdown file or a pdf document. There is a [write up template](https://github.com/udacity/CarND-LaneLines-P1/blob/master/writeup_template.md) that can be used to guide the writing process. Completing both the code in the Ipython notebook and the writeup template will cover all of the [rubric points](https://review.udacity.com/#!/rubrics/322/view) for this project.\n",
    "\n",
    "---\n",
    "Let's have a look at our first image called 'test_images/solidWhiteRight.jpg'.  Run the 2 cells below (hit Shift-Enter or the \"play\" button above) to display the image.\n",
    "\n",
    "**Note: If, at any point, you encounter frozen display windows or other confounding issues, you can always start again with a clean slate by going to the \"Kernel\" menu above and selecting \"Restart & Clear Output\".**\n",
    "\n",
    "---"
   ]
  },
  {
   "cell_type": "markdown",
   "metadata": {},
   "source": [
    "**The tools you have are color selection, region of interest selection, grayscaling, Gaussian smoothing, Canny Edge Detection and Hough Tranform line detection.  You  are also free to explore and try other techniques that were not presented in the lesson.  Your goal is piece together a pipeline to detect the line segments in the image, then average/extrapolate them and draw them onto the image for display (as below).  Once you have a working pipeline, try it out on the video stream below.**\n",
    "\n",
    "---\n",
    "\n",
    "<figure>\n",
    " <img src=\"examples/line-segments-example.jpg\" width=\"380\" alt=\"Combined Image\" />\n",
    " <figcaption>\n",
    " <p></p> \n",
    " <p style=\"text-align: center;\"> Your output should look something like this (above) after detecting line segments using the helper functions below </p> \n",
    " </figcaption>\n",
    "</figure>\n",
    " <p></p> \n",
    "<figure>\n",
    " <img src=\"examples/laneLines_thirdPass.jpg\" width=\"380\" alt=\"Combined Image\" />\n",
    " <figcaption>\n",
    " <p></p> \n",
    " <p style=\"text-align: center;\"> Your goal is to connect/average/extrapolate line segments to get output like this</p> \n",
    " </figcaption>\n",
    "</figure>"
   ]
  },
  {
   "cell_type": "markdown",
   "metadata": {},
   "source": [
    "**Run the cell below to import some packages.  If you get an `import error` for a package you've already installed, try changing your kernel (select the Kernel menu above --> Change Kernel).  Still have problems?  Try relaunching Jupyter Notebook from the terminal prompt.  Also, consult the forums for more troubleshooting tips.**  "
   ]
  },
  {
   "cell_type": "markdown",
   "metadata": {},
   "source": [
    "## Import Packages"
   ]
  },
  {
   "cell_type": "code",
   "execution_count": null,
   "metadata": {},
   "outputs": [],
   "source": [
    "#importing some useful packages\n",
    "import matplotlib.pyplot as plt\n",
    "import matplotlib.image as mpimg\n",
    "import numpy as np\n",
    "import cv2\n",
    "%matplotlib inline"
   ]
  },
  {
   "cell_type": "markdown",
   "metadata": {},
   "source": [
    "## Read in an Image"
   ]
  },
  {
   "cell_type": "code",
   "execution_count": null,
   "metadata": {},
   "outputs": [],
   "source": [
    "#reading in an image\n",
    "image = mpimg.imread('test_images/solidWhiteRight.jpg')\n",
    "\n",
    "#printing out some stats and plotting\n",
    "print('This image is:', type(image), 'with dimensions:', image.shape)\n",
    "plt.imshow(image)  # if you wanted to show a single color channel image called 'gray', for example, call as plt.imshow(gray, cmap='gray')"
   ]
  },
  {
   "cell_type": "markdown",
   "metadata": {},
   "source": [
    "## Ideas for Lane Detection Pipeline"
   ]
  },
  {
   "cell_type": "markdown",
   "metadata": {},
   "source": [
    "**Some OpenCV functions (beyond those introduced in the lesson) that might be useful for this project are:**\n",
    "\n",
    "`cv2.inRange()` for color selection  \n",
    "`cv2.fillPoly()` for regions selection  \n",
    "`cv2.line()` to draw lines on an image given endpoints  \n",
    "`cv2.addWeighted()` to coadd / overlay two images\n",
    "`cv2.cvtColor()` to grayscale or change color\n",
    "`cv2.imwrite()` to output images to file  \n",
    "`cv2.bitwise_and()` to apply a mask to an image\n",
    "\n",
    "**Check out the OpenCV documentation to learn about these and discover even more awesome functionality!**"
   ]
  },
  {
   "cell_type": "markdown",
   "metadata": {},
   "source": [
    "## Helper Functions"
   ]
  },
  {
   "cell_type": "markdown",
   "metadata": {},
   "source": [
    "Below are some helper functions to help get you started. They should look familiar from the lesson!"
   ]
  },
  {
   "cell_type": "code",
   "execution_count": null,
   "metadata": {},
   "outputs": [],
   "source": [
    "import math\n",
    "\n",
    "def grayscale(img):\n",
    "    \"\"\"Applies the Grayscale transform\n",
    "    This will return an image with only one color channel\n",
    "    but NOTE: to see the returned image as grayscale\n",
    "    (assuming your grayscaled image is called 'gray')\n",
    "    you should call plt.imshow(gray, cmap='gray')\"\"\"\n",
    "    return cv2.cvtColor(img, cv2.COLOR_RGB2GRAY)\n",
    "    # Or use BGR2GRAY if you read an image with cv2.imread()\n",
    "    # return cv2.cvtColor(img, cv2.COLOR_BGR2GRAY)\n",
    "    \n",
    "def canny(img, low_threshold, high_threshold):\n",
    "    \"\"\"Applies the Canny transform\"\"\"\n",
    "    return cv2.Canny(img, low_threshold, high_threshold)\n",
    "\n",
    "def gaussian_blur(img, kernel_size):\n",
    "    \"\"\"Applies a Gaussian Noise kernel\"\"\"\n",
    "    return cv2.GaussianBlur(img, (kernel_size, kernel_size), 0)\n",
    "\n",
    "def region_of_interest(img, vertices):\n",
    "    \"\"\"\n",
    "    Applies an image mask.\n",
    "    \n",
    "    Only keeps the region of the image defined by the polygon\n",
    "    formed from `vertices`. The rest of the image is set to black.\n",
    "    \"\"\"\n",
    "    #defining a blank mask to start with\n",
    "    mask = np.zeros_like(img)   \n",
    "    \n",
    "    #defining a 3 channel or 1 channel color to fill the mask with depending on the input image\n",
    "    if len(img.shape) > 2:\n",
    "        channel_count = img.shape[2]  # i.e. 3 or 4 depending on your image\n",
    "        ignore_mask_color = (255,) * channel_count\n",
    "    else:\n",
    "        ignore_mask_color = 255\n",
    "        \n",
    "    #filling pixels inside the polygon defined by \"vertices\" with the fill color    \n",
    "    cv2.fillPoly(mask, vertices, ignore_mask_color)\n",
    "    \n",
    "    #returning the image only where mask pixels are nonzero\n",
    "    masked_image = cv2.bitwise_and(img, mask)\n",
    "    return masked_image\n",
    "\n",
    "\n",
    "def draw_lines(img, lines, color=[255, 0, 0], thickness=2):\n",
    "    \"\"\"\n",
    "    NOTE: this is the function you might want to use as a starting point once you want to \n",
    "    average/extrapolate the line segments you detect to map out the full\n",
    "    extent of the lane (going from the result shown in raw-lines-example.mp4\n",
    "    to that shown in P1_example.mp4).  \n",
    "    \n",
    "    Think about things like separating line segments by their \n",
    "    slope ((y2-y1)/(x2-x1)) to decide which segments are part of the left\n",
    "    line vs. the right line.  Then, you can average the position of each of \n",
    "    the lines and extrapolate to the top and bottom of the lane.\n",
    "    \n",
    "    This function draws `lines` with `color` and `thickness`.    \n",
    "    Lines are drawn on the image inplace (mutates the image).\n",
    "    If you want to make the lines semi-transparent, think about combining\n",
    "    this function with the weighted_img() function below\n",
    "    \"\"\"\n",
    "    for line in lines:\n",
    "        for x1,y1,x2,y2 in line:\n",
    "            cv2.line(img, (x1, y1), (x2, y2), color, thickness)\n",
    "\n",
    "def hough_lines(img, rho, theta, threshold, min_line_len, max_line_gap):\n",
    "    \"\"\"\n",
    "    `img` should be the output of a Canny transform.\n",
    "        \n",
    "    Returns an image with hough lines drawn.\n",
    "    \"\"\"\n",
    "    lines = cv2.HoughLinesP(img, rho, theta, threshold, np.array([]), minLineLength=min_line_len, maxLineGap=max_line_gap)\n",
    "    line_img = np.zeros((img.shape[0], img.shape[1], 3), dtype=np.uint8)\n",
    "    draw_lines(line_img, lines)\n",
    "    return line_img, lines\n",
    "\n",
    "# Python 3 has support for cool math symbols.\n",
    "\n",
    "def weighted_img(img, initial_img, α=0.8, β=1., λ=0.):\n",
    "    \"\"\"\n",
    "    `img` is the output of the hough_lines(), An image with lines drawn on it.\n",
    "    Should be a blank image (all black) with lines drawn on it.\n",
    "    \n",
    "    `initial_img` should be the image before any processing.\n",
    "    \n",
    "    The result image is computed as follows:\n",
    "    \n",
    "    initial_img * α + img * β + λ\n",
    "    NOTE: initial_img and img must be the same shape!\n",
    "    \"\"\"\n",
    "    return cv2.addWeighted(initial_img, α, img, β, λ)"
   ]
  },
  {
   "cell_type": "markdown",
   "metadata": {},
   "source": [
    "## Test Images\n",
    "\n",
    "Build your pipeline to work on the images in the directory \"test_images\"  \n",
    "**You should make sure your pipeline works well on these images before you try the videos.**"
   ]
  },
  {
   "cell_type": "code",
   "execution_count": null,
   "metadata": {},
   "outputs": [],
   "source": [
    "import os\n",
    "image = mpimg.imread('test_images/solidWhiteRight.jpg')\n",
    "os.listdir(\"test_images/\")"
   ]
  },
  {
   "cell_type": "markdown",
   "metadata": {},
   "source": [
    "## Build a Lane Finding Pipeline\n",
    "\n"
   ]
  },
  {
   "cell_type": "markdown",
   "metadata": {},
   "source": [
    "Build the pipeline and run your solution on all test_images. Make copies into the `test_images_output` directory, and you can use the images in your writeup report.\n",
    "\n",
    "Try tuning the various parameters, especially the low and high Canny thresholds as well as the Hough lines parameters."
   ]
  },
  {
   "cell_type": "code",
   "execution_count": null,
   "metadata": {},
   "outputs": [],
   "source": [
    "# TODO: Build your pipeline that will draw lane lines on the test_images\n",
    "# then save them to the test_images directory.\n",
    "def create_grayscale_image(image):\n",
    "    \"\"\"\n",
    "    Convert a color image to grayscale.\n",
    "    \"\"\"\n",
    "    gray_img = grayscale(image)\n",
    "    return gray_img\n",
    "\n",
    "gray_img = create_grayscale_image(image)\n",
    "plt.imshow(gray_img, cmap='gray')"
   ]
  },
  {
   "cell_type": "code",
   "execution_count": null,
   "metadata": {},
   "outputs": [],
   "source": [
    "def create_blur_image(image, kernel_size):\n",
    "    \"\"\"\n",
    "    Apply Gaussian blur to an image.\n",
    "    \"\"\"\n",
    "    blur_img = gaussian_blur(image, kernel_size)\n",
    "    return blur_img\n",
    "\n",
    "blur_img = create_blur_image(gray_img, 7)\n",
    "plt.imshow(blur_img, cmap='gray')"
   ]
  },
  {
   "cell_type": "code",
   "execution_count": null,
   "metadata": {},
   "outputs": [],
   "source": [
    "def create_canny_image(image, low, high):\n",
    "    \"\"\"\n",
    "    Perform Canny edge detection on image.\n",
    "    \"\"\"\n",
    "    canny_img = canny(image, low, high)\n",
    "    return canny_img\n",
    "\n",
    "canny_img = create_canny_image(blur_img, 100, 250)    \n",
    "plt.imshow(canny_img)"
   ]
  },
  {
   "cell_type": "code",
   "execution_count": null,
   "metadata": {},
   "outputs": [],
   "source": [
    "def find_lines_roi(image):\n",
    "    \"\"\"\n",
    "    Find all lines within a region of interest.\n",
    "    \"\"\"\n",
    "    xs = image.shape[1]\n",
    "    ys = image.shape[0]\n",
    "\n",
    "    verts = np.array([[(xs / 10, ys), (9 * xs / 10, ys), (21 * xs / 40, ys / 2), (19 * xs / 40, ys / 2)]], dtype=np.int32)\n",
    "\n",
    "    roi_img = region_of_interest(image, verts)\n",
    "    cv2.polylines(roi_img, [verts], True, (0,255,255), 3)\n",
    "    return roi_img\n",
    "\n",
    "roi_img = find_lines_roi(canny_img)\n",
    "plt.imshow(roi_img)"
   ]
  },
  {
   "cell_type": "code",
   "execution_count": null,
   "metadata": {},
   "outputs": [],
   "source": [
    "def create_hough_image(image):\n",
    "    \"\"\"\n",
    "    Perform Hough line detection on image.\n",
    "    \"\"\"\n",
    "    rho = 2              # distance resolution in pixels of the Hough grid\n",
    "    theta = np.pi/180    # angular resolution in radians of the Hough grid\n",
    "    threshold = 25       # minimum number of votes (intersections in Hough grid cell)\n",
    "    min_line_len = 40    # minimum number of pixels making up a line\n",
    "    max_line_gap = 50    # maximum gap in pixels between connectable line segments\n",
    "    hough_img, lines = hough_lines(image, rho, theta, threshold, min_line_len, max_line_gap)\n",
    "    return hough_img, lines\n",
    "\n",
    "hough_img, lines = create_hough_image(roi_img)\n",
    "plt.imshow(hough_img)"
   ]
  },
  {
   "cell_type": "markdown",
   "metadata": {},
   "source": [
    "Things to try:\n",
    "  * filter based on color (HSV?) to get white and yellow\n",
    "  * try to distinguish solid and dashed lines\n",
    "    * for final image overlay use different colored lines for different lane line types\n",
    "  * calculate curvature and reject lines if curvature changes too rapidly\n",
    "    * use a moving average so that we do not reject sharp turns"
   ]
  },
  {
   "cell_type": "code",
   "execution_count": null,
   "metadata": {},
   "outputs": [],
   "source": [
    "from sys import maxsize\n",
    "from math import sqrt\n",
    "\n",
    "def intersection_point(x1, x2, y1, y2, m1, m2):\n",
    "    \"\"\"\n",
    "    Calculate intersection point between two lines.\n",
    "    The lines should be defined by: y = mx + b.\n",
    "    \"\"\"\n",
    "    b1 = y1 - m1 * x1\n",
    "    b2 = y2 - m2 * x2\n",
    "    x = (b2 - b1) / (m1 - m2)\n",
    "    y = m1 * x + b1\n",
    "    \n",
    "    return int(x), int(y)\n",
    "\n",
    "def extract_lines(lines_img, orig_img, lines):\n",
    "    \"\"\"\n",
    "    Extract road lane lines from an image.\n",
    "    \"\"\"\n",
    "    # Get slope of each line and find the longest line with positive slope\n",
    "    # and the longest line with negative slope where each of the lines must\n",
    "    # have one of its end points in the bottom fraction (1/4?) of the image.\n",
    "    pos_line = []\n",
    "    neg_line = []\n",
    "    pos_x_int = -maxsize\n",
    "    neg_x_int = maxsize\n",
    "    xs = lines_img.shape[1]\n",
    "    ys = lines_img.shape[0]\n",
    "    max_pos_len = 0\n",
    "    max_neg_len = 0\n",
    "    pos_m = 0\n",
    "    neg_m = 0\n",
    "    pos_lines = {}\n",
    "    neg_lines = {}\n",
    "    pos_lines['lines'] = []\n",
    "    pos_lines['m'] = []\n",
    "    neg_lines['lines'] = []\n",
    "    neg_lines['m'] = []\n",
    "\n",
    "    for line in lines:\n",
    "        # Make sure all points are int, not float.\n",
    "        i = 0\n",
    "        for pt in line[0]:\n",
    "            new_pt = int(round(pt))\n",
    "            lines[0][0][i] = new_pt\n",
    "            i = i + 1\n",
    "        for x1, y1, x2, y2 in line:\n",
    "            dx = x2 - x1\n",
    "            if dx == 0: # Protect against divide by zero.\n",
    "                if not pos_line.any():\n",
    "                    pos_line = line\n",
    "                    pos_lines.append(line)\n",
    "                elif not neg_line.any():\n",
    "                    neg_line = line\n",
    "                    neg_lines.append(line)\n",
    "                else:\n",
    "                    continue\n",
    "            dy = y2 - y1\n",
    "            m = dy / dx\n",
    "            line_len = dx * dx + dy * dy # Not necessary to take sqrt() so we can save cycles.\n",
    "            if m > 0:\n",
    "                if line_len > max_pos_len:\n",
    "                    pos_slope_max = m\n",
    "                    pos_line = line\n",
    "                    pos_x_int = int(round((ys - y1) / m + x1))\n",
    "                    max_pos_len = line_len\n",
    "                    pos_m = m\n",
    "                    pos_lines['lines'].append(line)\n",
    "                    pos_lines['m'].append(m)\n",
    "            elif m < 0:\n",
    "                if line_len > max_neg_len:\n",
    "                    neg_slope_max = m\n",
    "                    neg_line = line\n",
    "                    neg_x_int = int(round((ys - y1) / m + x1))\n",
    "                    max_neg_len = line_len\n",
    "                    neg_m = m\n",
    "                    neg_lines['lines'].append(line)\n",
    "                    neg_lines['m'].append(m)\n",
    "\n",
    "    lane_lines = []\n",
    "    lane_lines.append(pos_line)\n",
    "    lane_lines.append(neg_line)\n",
    "    pos_line_ext = [[pos_line[0][0], pos_line[0][1], pos_x_int, ys]]\n",
    "    neg_line_ext = [[neg_line[0][0], neg_line[0][1], neg_x_int, ys]]\n",
    "    lane_lines.append(pos_line_ext)\n",
    "    lane_lines.append(neg_line_ext)\n",
    "    pos_m = np.mean(pos_lines['m'])\n",
    "    neg_m = np.mean(neg_lines['m'])\n",
    "    x_int, y_int = intersection_point(pos_line[0][0], neg_line[0][0], pos_line[0][1], neg_line[0][1], pos_m, neg_m)\n",
    "    pos_line_int = [[pos_line[0][0], pos_line[0][1], x_int, y_int]]\n",
    "    neg_line_int = [[neg_line[0][0], neg_line[0][1], x_int, y_int]]\n",
    "    lane_lines.append(pos_line_int)\n",
    "    lane_lines.append(neg_line_int)\n",
    "    draw_img = orig_img.copy()\n",
    "    draw_lines(draw_img, lane_lines, color=(0, 0, 255), thickness=5)\n",
    "    #print('num_pos_lines: ', num_pos_lines, 'num_neg_lines', num_neg_lines)\n",
    "    #print('pos_line: ', pos_line, 'pos_x_int: ', pos_x_int)\n",
    "    #print('neg_line: ', neg_line, 'neg_x_int: ', neg_x_int)\n",
    "    #print('pos_line_ext', pos_line_ext)\n",
    "    #print('neg_line_ext', neg_line_ext)\n",
    "\n",
    "    return draw_img\n",
    "\n",
    "lane_lines_img = extract_lines(hough_img, image, lines)\n",
    "plt.imshow(lane_lines_img)"
   ]
  },
  {
   "cell_type": "code",
   "execution_count": null,
   "metadata": {},
   "outputs": [],
   "source": [
    "def detect_lane_lines(image):\n",
    "    \"\"\"\n",
    "    Detect lane lines in an image and annotate the image.\n",
    "    \"\"\"\n",
    "    orig_img = image.copy()\n",
    "    gray_img = create_grayscale_image(orig_img)\n",
    "    blur_img = create_blur_image(gray_img, 7)\n",
    "    canny_img = create_canny_image(blur_img, 100, 250)\n",
    "    roi_img = find_lines_roi(canny_img)\n",
    "    hough_img, lines = create_hough_image(roi_img)\n",
    "    lane_lines_img = extract_lines(hough_img, image, lines)\n",
    "    return lane_lines_img\n",
    "\n",
    "line_detect_img = detect_lane_lines(image)\n",
    "plt.imshow(line_detect_img)"
   ]
  },
  {
   "cell_type": "markdown",
   "metadata": {},
   "source": [
    "## Test on Videos\n",
    "\n",
    "You know what's cooler than drawing lanes over images? Drawing lanes over video!\n",
    "\n",
    "We can test our solution on two provided videos:\n",
    "\n",
    "`solidWhiteRight.mp4`\n",
    "\n",
    "`solidYellowLeft.mp4`\n",
    "\n",
    "**Note: if you get an import error when you run the next cell, try changing your kernel (select the Kernel menu above --> Change Kernel). Still have problems? Try relaunching Jupyter Notebook from the terminal prompt. Also, consult the forums for more troubleshooting tips.**\n",
    "\n",
    "**If you get an error that looks like this:**\n",
    "```\n",
    "NeedDownloadError: Need ffmpeg exe. \n",
    "You can download it by calling: \n",
    "imageio.plugins.ffmpeg.download()\n",
    "```\n",
    "**Follow the instructions in the error message and check out [this forum post](https://discussions.udacity.com/t/project-error-of-test-on-videos/274082) for more troubleshooting tips across operating systems.**"
   ]
  },
  {
   "cell_type": "code",
   "execution_count": null,
   "metadata": {},
   "outputs": [],
   "source": [
    "# Import everything needed to edit/save/watch video clips\n",
    "from moviepy.editor import VideoFileClip\n",
    "from IPython.display import HTML"
   ]
  },
  {
   "cell_type": "code",
   "execution_count": null,
   "metadata": {},
   "outputs": [],
   "source": [
    "def process_image(image):\n",
    "    # NOTE: The output you return should be a color image (3 channel) for processing video below\n",
    "    # TODO: put your pipeline here,\n",
    "    # you should return the final output (image where lines are drawn on lanes)\n",
    "    result = detect_lane_lines(image)\n",
    "\n",
    "    return result\n",
    "\n",
    "test_img = process_image(image)\n",
    "plt.imshow(test_img)"
   ]
  },
  {
   "cell_type": "markdown",
   "metadata": {},
   "source": [
    "Let's try the one with the solid white lane on the right first ..."
   ]
  },
  {
   "cell_type": "code",
   "execution_count": null,
   "metadata": {},
   "outputs": [],
   "source": [
    "white_output = 'test_videos_output/solidWhiteRight.mp4'\n",
    "## To speed up the testing process you may want to try your pipeline on a shorter subclip of the video\n",
    "## To do so add .subclip(start_second,end_second) to the end of the line below\n",
    "## Where start_second and end_second are integer values representing the start and end of the subclip\n",
    "## You may also uncomment the following line for a subclip of the first 5 seconds\n",
    "##clip1 = VideoFileClip(\"test_videos/solidWhiteRight.mp4\").subclip(0,5)\n",
    "clip1 = VideoFileClip(\"test_videos/solidWhiteRight.mp4\")\n",
    "white_clip = clip1.fl_image(process_image) #NOTE: this function expects color images!!\n",
    "%time white_clip.write_videofile(white_output, audio=False)"
   ]
  },
  {
   "cell_type": "markdown",
   "metadata": {},
   "source": [
    "Play the video inline, or if you prefer find the video in your filesystem (should be in the same directory) and play it in your video player of choice."
   ]
  },
  {
   "cell_type": "code",
   "execution_count": null,
   "metadata": {},
   "outputs": [],
   "source": [
    "HTML(\"\"\"\n",
    "<video width=\"960\" height=\"540\" controls>\n",
    "  <source src=\"{0}\">\n",
    "</video>\n",
    "\"\"\".format(white_output))"
   ]
  },
  {
   "cell_type": "markdown",
   "metadata": {},
   "source": [
    "## Improve the draw_lines() function\n",
    "\n",
    "**At this point, if you were successful with making the pipeline and tuning parameters, you probably have the Hough line segments drawn onto the road, but what about identifying the full extent of the lane and marking it clearly as in the example video (P1_example.mp4)?  Think about defining a line to run the full length of the visible lane based on the line segments you identified with the Hough Transform. As mentioned previously, try to average and/or extrapolate the line segments you've detected to map out the full extent of the lane lines. You can see an example of the result you're going for in the video \"P1_example.mp4\".**\n",
    "\n",
    "**Go back and modify your draw_lines function accordingly and try re-running your pipeline. The new output should draw a single, solid line over the left lane line and a single, solid line over the right lane line. The lines should start from the bottom of the image and extend out to the top of the region of interest.**"
   ]
  },
  {
   "cell_type": "markdown",
   "metadata": {},
   "source": [
    "Now for the one with the solid yellow lane on the left. This one's more tricky!"
   ]
  },
  {
   "cell_type": "code",
   "execution_count": null,
   "metadata": {},
   "outputs": [],
   "source": [
    "yellow_output = 'test_videos_output/solidYellowLeft.mp4'\n",
    "## To speed up the testing process you may want to try your pipeline on a shorter subclip of the video\n",
    "## To do so add .subclip(start_second,end_second) to the end of the line below\n",
    "## Where start_second and end_second are integer values representing the start and end of the subclip\n",
    "## You may also uncomment the following line for a subclip of the first 5 seconds\n",
    "##clip2 = VideoFileClip('test_videos/solidYellowLeft.mp4').subclip(0,5)\n",
    "#clip2 = VideoFileClip('test_videos/solidYellowLeft.mp4')\n",
    "#yellow_clip = clip2.fl_image(process_image)\n",
    "#%time yellow_clip.write_videofile(yellow_output, audio=False)"
   ]
  },
  {
   "cell_type": "code",
   "execution_count": null,
   "metadata": {},
   "outputs": [],
   "source": [
    "HTML(\"\"\"\n",
    "<video width=\"960\" height=\"540\" controls>\n",
    "  <source src=\"{0}\">\n",
    "</video>\n",
    "\"\"\".format(yellow_output))"
   ]
  },
  {
   "cell_type": "markdown",
   "metadata": {},
   "source": [
    "## Writeup and Submission\n",
    "\n",
    "If you're satisfied with your video outputs, it's time to make the report writeup in a pdf or markdown file. Once you have this Ipython notebook ready along with the writeup, it's time to submit for review! Here is a [link](https://github.com/udacity/CarND-LaneLines-P1/blob/master/writeup_template.md) to the writeup template file.\n"
   ]
  },
  {
   "cell_type": "markdown",
   "metadata": {},
   "source": [
    "## Optional Challenge\n",
    "\n",
    "Try your lane finding pipeline on the video below.  Does it still work?  Can you figure out a way to make it more robust?  If you're up for the challenge, modify your pipeline so it works with this video and submit it along with the rest of your project!"
   ]
  },
  {
   "cell_type": "code",
   "execution_count": null,
   "metadata": {},
   "outputs": [],
   "source": [
    "challenge_output = 'test_videos_output/challenge.mp4'\n",
    "## To speed up the testing process you may want to try your pipeline on a shorter subclip of the video\n",
    "## To do so add .subclip(start_second,end_second) to the end of the line below\n",
    "## Where start_second and end_second are integer values representing the start and end of the subclip\n",
    "## You may also uncomment the following line for a subclip of the first 5 seconds\n",
    "##clip3 = VideoFileClip('test_videos/challenge.mp4').subclip(0,5)\n",
    "#clip3 = VideoFileClip('test_videos/challenge.mp4')\n",
    "#challenge_clip = clip3.fl_image(process_image)\n",
    "#%time challenge_clip.write_videofile(challenge_output, audio=False)"
   ]
  },
  {
   "cell_type": "code",
   "execution_count": null,
   "metadata": {},
   "outputs": [],
   "source": [
    "HTML(\"\"\"\n",
    "<video width=\"960\" height=\"540\" controls>\n",
    "  <source src=\"{0}\">\n",
    "</video>\n",
    "\"\"\".format(challenge_output))"
   ]
  }
 ],
 "metadata": {
  "language_info": {
   "name": "python",
   "pygments_lexer": "ipython3"
  }
 },
 "nbformat": 4,
 "nbformat_minor": 1
}
